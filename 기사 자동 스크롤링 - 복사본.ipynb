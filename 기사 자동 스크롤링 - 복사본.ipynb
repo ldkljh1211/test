{
 "cells": [
  {
   "cell_type": "code",
   "execution_count": null,
   "metadata": {},
   "outputs": [],
   "source": [
    "! pip install selenium"
   ]
  },
  {
   "cell_type": "code",
   "execution_count": null,
   "metadata": {},
   "outputs": [],
   "source": [
    "from selenium import webdriver\n",
    "from selenium.webdriver.common.by import By\n",
    "from selenium.webdriver.chrome.service import Service\n",
    "from selenium.webdriver.chrome.options import Options\n",
    "import time\n",
    "\n",
    "# 크롬 옵션 설정 (헤드리스 모드)\n",
    "chrome_options = Options()\n",
    "chrome_options.add_argument('--headless')  # GUI를 표시하지 않음\n",
    "chrome_options.add_argument('--no-sandbox')\n",
    "chrome_options.add_argument('--disable-dev-shm-usage')"
   ]
  },
  {
   "cell_type": "code",
   "execution_count": null,
   "metadata": {},
   "outputs": [],
   "source": [
    "from datetime import datetime\n",
    "\n",
    "include = input('기사 제목에 포함시킬 내용을 입력하세요: ')\n",
    "\n",
    "while True:\n",
    "    start_date = input('시작 날짜를 입력하세요(예시: 20xx-xx-xx): ')\n",
    "    end_date = input('종료 날짜를 입력하세요(예시: 20xx-xx-xx): ')\n",
    "    \n",
    "    try:\n",
    "        start_date_obj = datetime.strptime(start_date, \"%Y-%m-%d\")\n",
    "        end_date_obj = datetime.strptime(end_date, \"%Y-%m-%d\")\n",
    "        \n",
    "        if end_date_obj >= start_date_obj:\n",
    "            break\n",
    "        else:\n",
    "            print(\"종료 날짜가 시작 날짜보다 빠를 수 없습니다. 다시 입력해주세요.\")\n",
    "    \n",
    "    except ValueError:\n",
    "        print(\"날짜 형식이 올바르지 않습니다. 다시 입력해주세요.\")\n",
    "\n",
    "\n",
    "start_date = list(map(int, start_date.split('-')))\n",
    "end_date = list(map(int, end_date.split('-')))"
   ]
  },
  {
   "cell_type": "code",
   "execution_count": null,
   "metadata": {},
   "outputs": [],
   "source": [
    "def select_date(start_date, end_date):\n",
    "    global driver\n",
    "    time.sleep(3)\n",
    "\n",
    "    driver.find_element(By.XPATH, f'//*[@id=\"snb\"]/div[2]/ul/li[3]/div/div[3]/div[2]/div[1]/div/div/div/ul/li[{start_date[0]-1989}]/a').click()\n",
    "    driver.find_element(By.XPATH, f'//*[@id=\"snb\"]/div[2]/ul/li[3]/div/div[3]/div[2]/div[2]/div/div/div/ul/li[{start_date[1]}]/a').click()\n",
    "    driver.find_element(By.XPATH, f'//*[@id=\"snb\"]/div[2]/ul/li[3]/div/div[3]/div[2]/div[3]/div/div/div/ul/li[{start_date[2]}]/a').click()\n",
    "\n",
    "    # 종료 날짜 클릭하기\n",
    "    driver.find_element(By.XPATH, '//*[@id=\"snb\"]/div[2]/ul/li[3]/div/div[3]/div[1]/span[3]/a').click()\n",
    "\n",
    "    driver.find_element(By.XPATH, f'//*[@id=\"snb\"]/div[2]/ul/li[3]/div/div[3]/div[2]/div[1]/div/div/div/ul/li[{end_date[0]-1989}]/a').click()\n",
    "    driver.find_element(By.XPATH, f'//*[@id=\"snb\"]/div[2]/ul/li[3]/div/div[3]/div[2]/div[2]/div/div/div/ul/li[{end_date[1]}]/a').click()\n",
    "    driver.find_element(By.XPATH, f'//*[@id=\"snb\"]/div[2]/ul/li[3]/div/div[3]/div[2]/div[3]/div/div/div/ul/li[{end_date[2]}]/a').click()\n",
    "\n",
    "    # 적용 클릭\n",
    "    driver.find_element(By.XPATH, '//*[@id=\"snb\"]/div[2]/ul/li[3]/div/div[3]/div[3]/button').click()"
   ]
  },
  {
   "cell_type": "code",
   "execution_count": null,
   "metadata": {},
   "outputs": [],
   "source": [
    "# 크롬 드라이버 실행\n",
    "driver = webdriver.Chrome(options=chrome_options)\n",
    "\n",
    "driver.get(url=f'https://search.naver.com/search.naver?where=news&query={include}')\n",
    "\n",
    "# 최신순\n",
    "driver.find_element(By.XPATH, '//*[@id=\"snb\"]/div[1]/div/div[1]/a[2]').click()\n",
    "# 옵션 클릭\n",
    "driver.find_element(By.XPATH, '//*[@id=\"snb\"]/div[1]/div/div[2]/a').click()\n",
    "driver.find_element(By.XPATH, '//*[@id=\"snb\"]/div[2]/ul/li[3]/div/div[1]/a[9]').click()\n",
    "\n",
    "select_date(start_date, end_date)\n",
    "\n",
    "# 스크롤링을 위한 반복문\n",
    "last_height = driver.execute_script(\"return document.body.scrollHeight\")  # 현재 페이지의 전체 높이\n",
    "\n",
    "while True:\n",
    "    # 스크롤을 최하단으로 내리기\n",
    "    driver.execute_script(\"window.scrollTo(0, document.body.scrollHeight);\")\n",
    "    time.sleep(2)  # 로드 시간 대기\n",
    "\n",
    "    # 새로운 페이지 높이를 가져옴\n",
    "    new_height = driver.execute_script(\"return document.body.scrollHeight\")\n",
    "\n",
    "    # 새로운 페이지 높이가 기존 높이와 같으면, 더 이상 스크롤 불가능\n",
    "    if new_height == last_height:\n",
    "        break\n",
    "    last_height = new_height  # 마지막 높이 갱신\n",
    "\n",
    "press = [element.get_attribute(\"textContent\") for element in driver.find_elements(By.CLASS_NAME, \"info.press\")] # 언론사\n",
    "title = [element.get_attribute(\"title\") for element in driver.find_elements(By.CLASS_NAME, \"news_tit\")] # 기사 제목\n",
    "link = [element.get_attribute(\"href\") for element in driver.find_elements(By.CLASS_NAME, \"news_tit\")]   # 기사 링크\n",
    "\n",
    "driver.quit()\n",
    "\n",
    "for t, p, l in zip(title, press, link):\n",
    "    print(f\"언론사: {p} | 제목: {t} | 링크: {l}\")"
   ]
  },
  {
   "cell_type": "code",
   "execution_count": null,
   "metadata": {},
   "outputs": [],
   "source": [
    "import pandas as pd\n",
    "\n",
    "# 데이터프레임 생성\n",
    "df = pd.DataFrame({\n",
    "    \"언론사\": press,\n",
    "    \"기사 제목\": title,\n",
    "    \"링크\": link\n",
    "}).drop_duplicates(subset=['언론사','기사 제목']).reset_index(drop=True)\n",
    "df.index = range(1, len(df) + 1)\n",
    "df.rename_axis('순번', axis='index', inplace=True)\n",
    "df.to_csv('article_dataframe.csv', index=False, encoding='utf-8-sig')\n",
    "\n",
    "# 데이터프레임 출력\n",
    "display(df)"
   ]
  },
  {
   "cell_type": "code",
   "execution_count": null,
   "metadata": {},
   "outputs": [],
   "source": [
    "from google.colab import files\n",
    "\n",
    "# CSV 파일 다운로드\n",
    "files.download('article_dataframe.csv')"
   ]
  }
 ],
 "metadata": {
  "kernelspec": {
   "display_name": "Python 3",
   "language": "python",
   "name": "python3"
  },
  "language_info": {
   "codemirror_mode": {
    "name": "ipython",
    "version": 3
   },
   "file_extension": ".py",
   "mimetype": "text/x-python",
   "name": "python",
   "nbconvert_exporter": "python",
   "pygments_lexer": "ipython3",
   "version": "3.13.0"
  }
 },
 "nbformat": 4,
 "nbformat_minor": 2
}
